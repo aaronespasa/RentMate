{
 "cells": [
  {
   "cell_type": "markdown",
   "metadata": {},
   "source": [
    "## Multimodal Transformer training: BERT + MLP"
   ]
  },
  {
   "cell_type": "code",
   "execution_count": 11,
   "metadata": {},
   "outputs": [],
   "source": [
    "import pandas as pd\n",
    "from time import time\n",
    "\n",
    "import torch\n",
    "import torch.nn as nn\n",
    "from torch.optim import AdamW, lr_scheduler\n",
    "from pytorch_lightning import Trainer\n",
    "from sklearn.preprocessing import OneHotEncoder\n",
    "from torchmetrics.regression.r2 import R2Score\n",
    "from utils.loss.rmse import RMSELoss\n",
    "\n",
    "from tqdm import tqdm\n",
    "\n",
    "from dataset import RegressionDataModule, RentingRegressionDataset\n",
    "from models.multimodal_transformer import MultimodalTransformerRegressor\n",
    "\n",
    "import lime\n",
    "import lime.lime_tabular\n",
    "from lime.lime_text import LimeTextExplainer\n",
    "import shap"
   ]
  },
  {
   "cell_type": "markdown",
   "metadata": {},
   "source": [
    "### 1. Hyperparameter tuning"
   ]
  },
  {
   "cell_type": "code",
   "execution_count": 2,
   "metadata": {},
   "outputs": [],
   "source": [
    "BATCH_SIZE = 64 # 64\n",
    "NUM_WORKERS = 4\n",
    "LEARNING_RATE = 3e-3\n",
    "EPOCHS = 8\n",
    "WEIGHT_DECAY = 0.0001\n",
    "DEVICE = torch.device(\"cuda\" if torch.cuda.is_available() else \"cpu\")"
   ]
  },
  {
   "cell_type": "markdown",
   "metadata": {},
   "source": [
    "### 2. Setup the Data Loaders"
   ]
  },
  {
   "cell_type": "code",
   "execution_count": 3,
   "metadata": {},
   "outputs": [],
   "source": [
    "df = pd.read_csv('data/lat_long_preprocessed_data.csv')\n",
    "model = \"beto\"\n",
    "data_module = RegressionDataModule(df, batch_size=BATCH_SIZE  , model=model)\n",
    "data_module.setup()"
   ]
  },
  {
   "cell_type": "code",
   "execution_count": 4,
   "metadata": {},
   "outputs": [],
   "source": [
    "train_loader = data_module.train_dataloader()\n",
    "val_loader = data_module.val_dataloader()\n",
    "test_loader = data_module.test_dataloader()"
   ]
  },
  {
   "cell_type": "markdown",
   "metadata": {},
   "source": [
    "Get the number of dimensions of the numerical and categorical features:"
   ]
  },
  {
   "cell_type": "code",
   "execution_count": 5,
   "metadata": {},
   "outputs": [],
   "source": [
    "numerical_features, categorical_features, input_ids, _, _ = next(iter(train_loader))"
   ]
  },
  {
   "cell_type": "markdown",
   "metadata": {},
   "source": [
    "### 3. Setup the Model"
   ]
  },
  {
   "cell_type": "code",
   "execution_count": 6,
   "metadata": {},
   "outputs": [
    {
     "name": "stdout",
     "output_type": "stream",
     "text": [
      "MLP layer sizes:\n",
      " * Input: 802\n",
      " * Hidden: [200, 50, 12, 3]\n",
      " * Output: 1\n",
      "\n"
     ]
    }
   ],
   "source": [
    "model = MultimodalTransformerRegressor(cat_feat_dim=categorical_features.shape[1],\n",
    "                                       numerical_feat_dim=numerical_features.shape[1])"
   ]
  },
  {
   "cell_type": "code",
   "execution_count": 7,
   "metadata": {},
   "outputs": [
    {
     "data": {
      "text/plain": [
       "MultimodalTransformerRegressor(\n",
       "  (bert): BertModel(\n",
       "    (embeddings): BertEmbeddings(\n",
       "      (word_embeddings): Embedding(31002, 768, padding_idx=1)\n",
       "      (position_embeddings): Embedding(512, 768)\n",
       "      (token_type_embeddings): Embedding(2, 768)\n",
       "      (LayerNorm): LayerNorm((768,), eps=1e-12, elementwise_affine=True)\n",
       "      (dropout): Dropout(p=0.1, inplace=False)\n",
       "    )\n",
       "    (encoder): BertEncoder(\n",
       "      (layer): ModuleList(\n",
       "        (0-11): 12 x BertLayer(\n",
       "          (attention): BertAttention(\n",
       "            (self): BertSelfAttention(\n",
       "              (query): Linear(in_features=768, out_features=768, bias=True)\n",
       "              (key): Linear(in_features=768, out_features=768, bias=True)\n",
       "              (value): Linear(in_features=768, out_features=768, bias=True)\n",
       "              (dropout): Dropout(p=0.1, inplace=False)\n",
       "            )\n",
       "            (output): BertSelfOutput(\n",
       "              (dense): Linear(in_features=768, out_features=768, bias=True)\n",
       "              (LayerNorm): LayerNorm((768,), eps=1e-12, elementwise_affine=True)\n",
       "              (dropout): Dropout(p=0.1, inplace=False)\n",
       "            )\n",
       "          )\n",
       "          (intermediate): BertIntermediate(\n",
       "            (dense): Linear(in_features=768, out_features=3072, bias=True)\n",
       "            (intermediate_act_fn): GELUActivation()\n",
       "          )\n",
       "          (output): BertOutput(\n",
       "            (dense): Linear(in_features=3072, out_features=768, bias=True)\n",
       "            (LayerNorm): LayerNorm((768,), eps=1e-12, elementwise_affine=True)\n",
       "            (dropout): Dropout(p=0.1, inplace=False)\n",
       "          )\n",
       "        )\n",
       "      )\n",
       "    )\n",
       "    (pooler): BertPooler(\n",
       "      (dense): Linear(in_features=768, out_features=768, bias=True)\n",
       "      (activation): Tanh()\n",
       "    )\n",
       "  )\n",
       "  (dropout): Dropout(p=0.1, inplace=False)\n",
       "  (classifier): Linear(in_features=768, out_features=1, bias=True)\n",
       "  (numeric_batch_norm): BatchNorm1d(27, eps=1e-05, momentum=0.1, affine=True, track_running_stats=True)\n",
       "  (mlp): MLP(\n",
       "    (activation): ReLU()\n",
       "    (layers): ModuleList(\n",
       "      (0): Linear(in_features=802, out_features=200, bias=True)\n",
       "      (1): Linear(in_features=200, out_features=50, bias=True)\n",
       "      (2): Linear(in_features=50, out_features=12, bias=True)\n",
       "      (3): Linear(in_features=12, out_features=3, bias=True)\n",
       "      (4): Linear(in_features=3, out_features=1, bias=True)\n",
       "    )\n",
       "    (dropout): Dropout(p=0.1, inplace=False)\n",
       "    (batch_norm): ModuleList(\n",
       "      (0): BatchNorm1d(200, eps=1e-05, momentum=0.1, affine=True, track_running_stats=True)\n",
       "      (1): BatchNorm1d(50, eps=1e-05, momentum=0.1, affine=True, track_running_stats=True)\n",
       "      (2): BatchNorm1d(12, eps=1e-05, momentum=0.1, affine=True, track_running_stats=True)\n",
       "      (3): BatchNorm1d(3, eps=1e-05, momentum=0.1, affine=True, track_running_stats=True)\n",
       "    )\n",
       "  )\n",
       ")"
      ]
     },
     "execution_count": 7,
     "metadata": {},
     "output_type": "execute_result"
    }
   ],
   "source": [
    "model.to(DEVICE)"
   ]
  },
  {
   "cell_type": "code",
   "execution_count": 8,
   "metadata": {},
   "outputs": [],
   "source": [
    "criterion = nn.MSELoss()\n",
    "optimizer = AdamW(model.parameters(), lr=LEARNING_RATE, weight_decay=WEIGHT_DECAY)\n",
    "scheduler = lr_scheduler.StepLR(optimizer, step_size=1, gamma=0.9)"
   ]
  },
  {
   "cell_type": "markdown",
   "metadata": {},
   "source": [
    "### 4. Fit one batch to check that the model is learning \"something\" (optional)"
   ]
  },
  {
   "cell_type": "code",
   "execution_count": null,
   "metadata": {},
   "outputs": [],
   "source": [
    "numerical_features, categorical_features, input_ids, attention_mask, target = next(iter(train_loader))\n",
    "\n",
    "# send this data to the GPU\n",
    "numerical_features = numerical_features.to(DEVICE)\n",
    "categorical_features = categorical_features.to(DEVICE)\n",
    "input_ids = input_ids.to(DEVICE)\n",
    "attention_mask = attention_mask.to(DEVICE)\n",
    "target = target.to(DEVICE)\n",
    "\n",
    "losses = []\n",
    "maes = []\n",
    "\n",
    "\n",
    "model.train()\n",
    "\n",
    "print(\"Starting training process...\")\n",
    "ini_time = time()\n",
    "for epoch in tqdm(range(EPOCHS), desc=\"Epoch: \"):\n",
    "    optimizer.zero_grad()\n",
    "    output = model(input_ids=input_ids,\n",
    "                    attention_mask=attention_mask,\n",
    "                    categorical_features=categorical_features,\n",
    "                    numerical_features=numerical_features)\n",
    "    loss = criterion(output, target)\n",
    "    loss.backward()\n",
    "    optimizer.step()\n",
    "    # scheduler.step()\n",
    "    losses.append(loss.item())    \n",
    "    mae = nn.L1Loss()(output, target)\n",
    "    maes.append(mae.item())\n",
    "\n",
    "\n",
    "print(f\"Training took {time() - ini_time} seconds\")"
   ]
  },
  {
   "cell_type": "code",
   "execution_count": null,
   "metadata": {},
   "outputs": [],
   "source": [
    "import matplotlib.pyplot as plt\n",
    "import seaborn as sns\n",
    "\n",
    "# plot the loss over the EPOCHS using matplotlib\n",
    "plt.plot(losses, label=\"Training loss\")\n",
    "plt.legend()\n",
    "plt.show()"
   ]
  },
  {
   "cell_type": "code",
   "execution_count": null,
   "metadata": {},
   "outputs": [],
   "source": [
    "print(losses[0])"
   ]
  },
  {
   "cell_type": "markdown",
   "metadata": {},
   "source": [
    "### 5. Train the model"
   ]
  },
  {
   "cell_type": "code",
   "execution_count": null,
   "metadata": {},
   "outputs": [],
   "source": [
    "train_losses = []\n",
    "val_losses = []\n",
    "val_maes = []\n",
    "val_mses = []\n",
    "val_rmses = []\n",
    "val_r2s = []\n",
    "\n",
    "for epoch in range(EPOCHS):\n",
    "    ##########################\n",
    "    ######## TRAINING ########\n",
    "    ##########################\n",
    "    model.train()\n",
    "    train_loss = 0\n",
    "    for batch in tqdm(train_loader):\n",
    "        numerical_features, categorical_features, input_ids, attention_mask, target = batch\n",
    "\n",
    "        # move data to GPU\n",
    "        numerical_features = numerical_features.to(DEVICE)\n",
    "        categorical_features = categorical_features.to(DEVICE)\n",
    "        input_ids = input_ids.to(DEVICE)\n",
    "        attention_mask = attention_mask.to(DEVICE)\n",
    "        target = target.to(DEVICE)\n",
    "        \n",
    "        optimizer.zero_grad() # clear gradients, this is useful because gradients are accumulated\n",
    "\n",
    "        # forward pass\n",
    "        output = model(input_ids=input_ids,\n",
    "                   attention_mask=attention_mask,\n",
    "                   categorical_features=categorical_features,\n",
    "                   numerical_features=numerical_features)\n",
    "        \n",
    "        loss = criterion(output, target) # calculate loss\n",
    "        loss.backward() # calculate gradients\n",
    "        optimizer.step() # update weights\n",
    "        scheduler.step() # update learning rate\n",
    "        train_loss += loss.item() # accumulate loss\n",
    "\n",
    "    ##########################\n",
    "    ####### VALIDATION #######\n",
    "    ##########################\n",
    "    model.eval()\n",
    "    val_loss = 0\n",
    "    val_mae = 0\n",
    "    val_mse = 0\n",
    "    val_rmse = 0\n",
    "    val_r2 = 0\n",
    "    with torch.no_grad():\n",
    "        for batch in tqdm(val_loader):\n",
    "            numerical_features, categorical_features, input_ids, attention_mask, target = batch\n",
    "\n",
    "            # move data to GPU\n",
    "            numerical_features = numerical_features.to(DEVICE)\n",
    "            categorical_features = categorical_features.to(DEVICE)\n",
    "            input_ids = input_ids.to(DEVICE)\n",
    "            attention_mask = attention_mask.to(DEVICE)\n",
    "            target = target.to(DEVICE)\n",
    "\n",
    "            # forward pass\n",
    "            output = model(input_ids=input_ids,\n",
    "                    attention_mask=attention_mask,\n",
    "                    categorical_features=categorical_features,\n",
    "                    numerical_features=numerical_features)\n",
    "            \n",
    "            # calculate loss and accumulate\n",
    "            loss = criterion(output, target)\n",
    "            val_loss += loss.item()\n",
    "        \n",
    "            # calculate metrics\n",
    "            val_mae += nn.L1Loss()(output, target)\n",
    "            val_mse += nn.MSELoss()(output, target)\n",
    "            val_rmse += RMSELoss()(output, target)\n",
    "\n",
    "            # move data to CPU and convert to numpy arrays\n",
    "            output = output.cpu()\n",
    "            target = target.cpu()\n",
    "            val_r2 += R2Score()(output, target)\n",
    "\n",
    "    # calculate average loss and metrics\n",
    "    train_losses.append(train_loss / len(train_loader))\n",
    "    val_losses.append(val_loss / len(val_loader))\n",
    "    val_maes.append(val_mae / len(val_loader))\n",
    "    val_mses.append(val_mse / len(val_loader))\n",
    "    val_rmses.append(val_rmse / len(val_loader))\n",
    "    val_r2s.append(val_r2 / len(val_loader))\n",
    "\n",
    "    # Save the model checkpoint\n",
    "    torch.save(model.state_dict(), f\"models/checkpoints/model_{epoch}.pt\")\n",
    "\n",
    "    # print the metrics and save them in a file\n",
    "    print(f\"Epoch {epoch} - Training loss: {train_loss / len(train_loader)} - Validation loss: {val_loss / len(val_loader)}\")\n",
    "    print(f\"Epoch {epoch} - Validation MAE: {val_mae / len(val_loader)}\")\n",
    "    print(f\"Epoch {epoch} - Validation MSE: {val_mse / len(val_loader)}\")\n",
    "    print(f\"Epoch {epoch} - Validation RMSE: {val_rmse / len(val_loader)}\")\n",
    "    print(f\"Epoch {epoch} - Validation R2: {val_r2 / len(val_loader)}\")\n",
    "    print(\"\")\n",
    "\n",
    "    with open(\"models/metrics.txt\", \"a\") as f:\n",
    "        f.write(f\"Epoch {epoch} - Training loss: {train_loss / len(train_loader)} - Validation loss: {val_loss / len(val_loader)}\\n\")\n",
    "        f.write(f\"Epoch {epoch} - Validation MAE: {val_mae / len(val_loader)}\\n\")\n",
    "        f.write(f\"Epoch {epoch} - Validation MSE: {val_mse / len(val_loader)}\\n\")\n",
    "        f.write(f\"Epoch {epoch} - Validation RMSE: {val_rmse / len(val_loader)}\\n\")\n",
    "        f.write(f\"Epoch {epoch} - Validation R2: {val_r2 / len(val_loader)}\\n\")\n",
    "        f.write(\"\\n\")"
   ]
  },
  {
   "cell_type": "markdown",
   "metadata": {},
   "source": [
    "### 6. Explainability"
   ]
  },
  {
   "cell_type": "code",
   "execution_count": null,
   "metadata": {},
   "outputs": [],
   "source": [
    "def plot_shap(test_idx: int = 0):\n",
    "    type_encoder = OneHotEncoder(handle_unknown='ignore', sparse_output=False)\n",
    "    train_dataset = RentingRegressionDataset(df, type_encoder, model=model)\n",
    "    feature_names = train_dataset.feature_names\n",
    "\n",
    "    # get the data recompling all the data from the test_loader\n",
    "    X_test = []\n",
    "    for batch in test_loader:\n",
    "        numerical_features, categorical_features, input_ids, attention_mask, target = batch\n",
    "        X_test.append(torch.cat((numerical_features, categorical_features), dim=1))\n",
    "     \n",
    "    explainerXGB = shap.DeepExplainer(model, X_test)\n",
    "\n",
    "    shap_values_XGB_test = explainerXGB.shap_values(X_test)\n",
    "    explanation_XGB_test = shap.Explanation(values=shap_values_XGB_test[test_idx], \n",
    "                                        base_values=explainerXGB.expected_value, \n",
    "                                        data=X_test[test_idx], \n",
    "                                        feature_names=feature_names)\n",
    "    shap.plots.waterfall(explanation_XGB_test, max_display=20)"
   ]
  }
 ],
 "metadata": {
  "kernelspec": {
   "display_name": "venv",
   "language": "python",
   "name": "python3"
  },
  "language_info": {
   "codemirror_mode": {
    "name": "ipython",
    "version": 3
   },
   "file_extension": ".py",
   "mimetype": "text/x-python",
   "name": "python",
   "nbconvert_exporter": "python",
   "pygments_lexer": "ipython3",
   "version": "3.11.7"
  }
 },
 "nbformat": 4,
 "nbformat_minor": 2
}
