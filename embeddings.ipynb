{
 "cells": [
  {
   "cell_type": "markdown",
   "metadata": {},
   "source": [
    "# Create the FastText Embedding Matrix for the vocabulary of our dataset"
   ]
  },
  {
   "cell_type": "code",
   "execution_count": 23,
   "metadata": {},
   "outputs": [],
   "source": [
    "import pandas as pd\n",
    "import numpy as np\n",
    "np.set_printoptions(suppress=True)\n",
    "\n",
    "import nltk\n",
    "from nltk.tokenize import word_tokenize\n",
    "from gensim.models import FastText\n",
    "from sklearn.manifold import TSNE\n",
    "import matplotlib.pyplot as plt\n",
    "import plotly.express as px"
   ]
  },
  {
   "cell_type": "code",
   "execution_count": 5,
   "metadata": {},
   "outputs": [],
   "source": [
    "df = pd.read_csv('data/preprocessed_data.csv')"
   ]
  },
  {
   "cell_type": "markdown",
   "metadata": {},
   "source": [
    "### 1. Tokenize the text"
   ]
  },
  {
   "cell_type": "markdown",
   "metadata": {},
   "source": [
    "Download the Punkt tokenizer as it's very effective tokenizing sentences in Spanish as it uses punctuation and capitalization cues that are very informative in Spanish:"
   ]
  },
  {
   "cell_type": "code",
   "execution_count": 4,
   "metadata": {},
   "outputs": [
    {
     "name": "stderr",
     "output_type": "stream",
     "text": [
      "[nltk_data] Downloading package punkt to\n",
      "[nltk_data]     C:\\Users\\Aaron\\AppData\\Roaming\\nltk_data...\n",
      "[nltk_data]   Unzipping tokenizers\\punkt.zip.\n"
     ]
    },
    {
     "data": {
      "text/plain": [
       "True"
      ]
     },
     "execution_count": 4,
     "metadata": {},
     "output_type": "execute_result"
    }
   ],
   "source": [
    "nltk.download('punkt')"
   ]
  },
  {
   "cell_type": "code",
   "execution_count": 11,
   "metadata": {},
   "outputs": [],
   "source": [
    "sentences = [word_tokenize(rev.lower()) for rev in df.Description]"
   ]
  },
  {
   "cell_type": "code",
   "execution_count": 12,
   "metadata": {},
   "outputs": [
    {
     "data": {
      "text/plain": [
       "['alquiler', 'de', 'piso', 'en', 'avenida', 'de', 'ramón', 'y', 'cajal', '.']"
      ]
     },
     "execution_count": 12,
     "metadata": {},
     "output_type": "execute_result"
    }
   ],
   "source": [
    "sentences[0][:10]"
   ]
  },
  {
   "cell_type": "markdown",
   "metadata": {},
   "source": [
    "### 2. Create the FastText Embedding Matrix"
   ]
  },
  {
   "cell_type": "markdown",
   "metadata": {},
   "source": [
    "Here he have changed multiple times the vector_size in order to make the explainability of the model easier."
   ]
  },
  {
   "cell_type": "code",
   "execution_count": 13,
   "metadata": {},
   "outputs": [],
   "source": [
    "model = FastText(sentences, vector_size=128, window=5, min_count=3, workers=18, epochs=100, seed=42, sg=1)"
   ]
  },
  {
   "cell_type": "markdown",
   "metadata": {},
   "source": [
    "### 3. Plot the Embedding Matrix to see the words in the vector space"
   ]
  },
  {
   "cell_type": "code",
   "execution_count": 16,
   "metadata": {},
   "outputs": [],
   "source": [
    "def plot_top_similar(query_word, model, limit=10, color=['maroon', 'blue']):\n",
    "    embed_dim = model.wv.vectors.shape[1]\n",
    "    vectors = np.empty((0, embed_dim), dtype='f')\n",
    "    labels = [query_word]\n",
    "    types = ['Query Word']\n",
    "    \n",
    "    vectors = np.append(vectors, model.wv.__getitem__([query_word]), axis=0)\n",
    "    \n",
    "    similar_words = model.wv.most_similar(query_word, topn=limit)\n",
    "    for word, similarity in similar_words:\n",
    "        vector = model.wv.__getitem__([word])\n",
    "        labels.append(word)\n",
    "        types.append('Similar Words')\n",
    "        vectors = np.append(vectors, vector, axis=0)\n",
    "        \n",
    "    vectors_tsne = TSNE(n_components=2, random_state=42, init='pca').fit_transform(vectors)\n",
    "    vectors_tsne_df = pd.DataFrame({\n",
    "        'X': [x for x in vectors_tsne[:, 0]],\n",
    "        'Y': [y for y in vectors_tsne[:, 1]],\n",
    "        'label': labels,\n",
    "        'Type': types\n",
    "    })\n",
    "    \n",
    "    fig = px.scatter(vectors_tsne_df, x='X', y='Y', text='label', color='Type', size_max=60, color_discrete_map={'Query Word': color[0], 'Similar Words': color[1]})\n",
    "    fig.for_each_trace(lambda t: t.update(textfont_color=t.marker.color, textposition='top right'))\n",
    "    fig.update_layout(\n",
    "        height=800,\n",
    "        title_text=f't-SNE visualization for Top {limit} Similar Words to \"{query_word}\"'\n",
    "    )\n",
    "    \n",
    "    return fig"
   ]
  },
  {
   "cell_type": "code",
   "execution_count": null,
   "metadata": {},
   "outputs": [],
   "source": []
  }
 ],
 "metadata": {
  "kernelspec": {
   "display_name": "venv",
   "language": "python",
   "name": "python3"
  },
  "language_info": {
   "codemirror_mode": {
    "name": "ipython",
    "version": 3
   },
   "file_extension": ".py",
   "mimetype": "text/x-python",
   "name": "python",
   "nbconvert_exporter": "python",
   "pygments_lexer": "ipython3",
   "version": "3.11.7"
  }
 },
 "nbformat": 4,
 "nbformat_minor": 2
}
