{
 "cells": [
  {
   "cell_type": "markdown",
   "metadata": {},
   "source": []
  },
  {
   "cell_type": "markdown",
   "metadata": {},
   "source": [
    "## Init"
   ]
  },
  {
   "cell_type": "markdown",
   "metadata": {},
   "source": [
    "Librerias"
   ]
  },
  {
   "cell_type": "code",
   "execution_count": 85,
   "metadata": {},
   "outputs": [],
   "source": [
    "import pandas as pd\n",
    "from sklearn.model_selection import train_test_split"
   ]
  },
  {
   "cell_type": "markdown",
   "metadata": {},
   "source": [
    "Carga de Ficheros"
   ]
  },
  {
   "cell_type": "code",
   "execution_count": 86,
   "metadata": {},
   "outputs": [],
   "source": [
    "file_names = ['data/dataframe_1100_0.csv', 'data/dataframe_1400_1045.csv', 'data/dataframe_1450_1400.csv', \n",
    "              'data/dataframe_2000_1450.csv', 'data/dataframe_14000_2000.csv', 'data/dataframe_30000_14000.csv']\n",
    "\n",
    "dataframes = [pd.read_csv(file_name) for file_name in file_names]"
   ]
  },
  {
   "cell_type": "markdown",
   "metadata": {},
   "source": [
    "Combinar los DataFrames"
   ]
  },
  {
   "cell_type": "code",
   "execution_count": 87,
   "metadata": {},
   "outputs": [],
   "source": [
    "combined_df = pd.concat(dataframes, ignore_index=True)"
   ]
  },
  {
   "cell_type": "markdown",
   "metadata": {},
   "source": [
    "#### Exportar df"
   ]
  },
  {
   "cell_type": "code",
   "execution_count": 88,
   "metadata": {},
   "outputs": [],
   "source": [
    "#combined_df.to_csv('combined.csv', index=False)\n"
   ]
  },
  {
   "cell_type": "markdown",
   "metadata": {},
   "source": [
    "# Preprocesamiento\n"
   ]
  },
  {
   "cell_type": "code",
   "execution_count": 89,
   "metadata": {},
   "outputs": [],
   "source": [
    "missing_values = combined_df.isnull().sum()"
   ]
  },
  {
   "cell_type": "markdown",
   "metadata": {},
   "source": [
    "#### Combinar, Eliminar Duplicados y Limpiar"
   ]
  },
  {
   "cell_type": "code",
   "execution_count": 90,
   "metadata": {},
   "outputs": [
    {
     "name": "stdout",
     "output_type": "stream",
     "text": [
      "Número de lineas duplicadas eliminadas:  2303\n"
     ]
    }
   ],
   "source": [
    "# Combinar todos los DataFrames\n",
    "combined_df = pd.concat(dataframes, ignore_index=True)\n",
    "\n",
    "# Contar número de lineas\n",
    "ini_dfLines = combined_df.shape[0]\n",
    "\n",
    "# Eliminar duplicados\n",
    "combined_df.drop_duplicates(inplace=True)\n",
    "fini_dfLines = combined_df.shape[0]\n",
    "\n",
    "print('Número de lineas duplicadas eliminadas: ', ini_dfLines - fini_dfLines)\n"
   ]
  },
  {
   "cell_type": "markdown",
   "metadata": {},
   "source": [
    "#### Parsear tipos de datos"
   ]
  },
  {
   "cell_type": "code",
   "execution_count": 91,
   "metadata": {},
   "outputs": [
    {
     "data": {
      "text/plain": [
       "_id                       int64\n",
       "Title                    object\n",
       "Description              object\n",
       "Price                     int64\n",
       "Deposit                  object\n",
       "Type                     object\n",
       "Built square meters       int64\n",
       "Useful square meters    float64\n",
       "Plot square meters      float64\n",
       "Rooms                     int64\n",
       "Bathrooms                 int64\n",
       "Orientation              object\n",
       "Storage room               bool\n",
       "Wardrobe                   bool\n",
       "Furnished                  bool\n",
       "Equipped kitchen           bool\n",
       "Renovation                 bool\n",
       "Reduced mobility           bool\n",
       "Heating                    bool\n",
       "Garage                     bool\n",
       "Floor                    object\n",
       "Elevator                   bool\n",
       "Air conditioning           bool\n",
       "Swimming pool              bool\n",
       "Garden                     bool\n",
       "Green areas                bool\n",
       "Terrace                    bool\n",
       "Consumption              object\n",
       "Emissions                object\n",
       "Location                 object\n",
       "Real state               object\n",
       "dtype: object"
      ]
     },
     "execution_count": 91,
     "metadata": {},
     "output_type": "execute_result"
    }
   ],
   "source": [
    "combined_df.dtypes"
   ]
  },
  {
   "cell_type": "markdown",
   "metadata": {},
   "source": [
    "#### Quitar tildes y caracteres especiales"
   ]
  },
  {
   "cell_type": "code",
   "execution_count": 92,
   "metadata": {},
   "outputs": [
    {
     "name": "stderr",
     "output_type": "stream",
     "text": [
      "C:\\Users\\NoobG\\AppData\\Local\\Temp\\ipykernel_30684\\116802083.py:14: FutureWarning: DataFrame.applymap has been deprecated. Use DataFrame.map instead.\n",
      "  combined_df = combined_df.applymap(lambda x: quitar_tildes(x) if isinstance(x, str) else x)\n"
     ]
    }
   ],
   "source": [
    "# Diccionario de reemplazo ampliado para incluir ñ y otros caracteres\n",
    "reemplazos = {\n",
    "    'á': 'a', 'é': 'e', 'í': 'i', 'ó': 'o', 'ú': 'u',\n",
    "    'Á': 'A', 'É': 'E', 'Í': 'I', 'Ó': 'O', 'Ú': 'U',\n",
    "    'ñ': 'n', 'Ñ': 'N', 'ª': 'a', 'º': 'o', 'ü': 'u'\n",
    "    # Agrega aquí otros caracteres que necesites reemplazar\n",
    "}\n",
    "\n",
    "# Función para reemplazar los caracteres\n",
    "def quitar_tildes(s):\n",
    "    return \"\".join(reemplazos.get(c, c) for c in s)\n",
    "\n",
    "# Aplicar la función a cada elemento del DataFrame\n",
    "combined_df = combined_df.applymap(lambda x: quitar_tildes(x) if isinstance(x, str) else x)\n"
   ]
  },
  {
   "cell_type": "markdown",
   "metadata": {},
   "source": [
    "#### Cambio de dtype\n",
    "* Type a One Hot Encoding? (No, Se hará aparte)\n",
    "* Plot square meters: float a int\n",
    "* Floor: de object a int64 (No se puede, hay primero interior y exterior)"
   ]
  },
  {
   "cell_type": "code",
   "execution_count": null,
   "metadata": {},
   "outputs": [
    {
     "data": {
      "text/plain": [
       "_id                       int64\n",
       "Title                    object\n",
       "Description              object\n",
       "Price                     int64\n",
       "Deposit                  object\n",
       "Type                     object\n",
       "Built square meters       int64\n",
       "Useful square meters    float64\n",
       "Plot square meters        int32\n",
       "Rooms                     int64\n",
       "Bathrooms                 int64\n",
       "Orientation              object\n",
       "Storage room               bool\n",
       "Wardrobe                   bool\n",
       "Furnished                  bool\n",
       "Equipped kitchen           bool\n",
       "Renovation                 bool\n",
       "Reduced mobility           bool\n",
       "Heating                    bool\n",
       "Garage                     bool\n",
       "Floor                    object\n",
       "Elevator                   bool\n",
       "Air conditioning           bool\n",
       "Swimming pool              bool\n",
       "Garden                     bool\n",
       "Green areas                bool\n",
       "Terrace                    bool\n",
       "Consumption              object\n",
       "Emissions                object\n",
       "Location                 object\n",
       "Real state               object\n",
       "dtype: object"
      ]
     },
     "execution_count": 81,
     "metadata": {},
     "output_type": "execute_result"
    }
   ],
   "source": [
    "# Para \"Plot square meters\" si es vacío reemplazar por 0\n",
    "combined_df['Plot square meters'] = combined_df['Plot square meters'].fillna(0)\n",
    "\n",
    "# Cambiarle el tipo a int\n",
    "combined_df['Plot square meters'] = combined_df['Plot square meters'].astype(int)\n",
    "combined_df.dtypes"
   ]
  },
  {
   "cell_type": "markdown",
   "metadata": {},
   "source": [
    "#### Reducción de dimensionalidad\n",
    "Cols a eliminar\n",
    "* _id: no creo que vaya a afectar\n",
    "* Deposit: meses de deposito\n",
    "* Useful square meters: Vacía\n",
    "* Orientation: Puede que afecte poco y hay muchos sin valor\n",
    "* Consumption | Emissions: Son lo mismo, quedarnos con una sola columna y meterle el OR para que saque el valor de los dos, lo dejamos en mayusc\n",
    "* Real state: No creo que afecte notablemente al precio final, aunque podría afectar levemente en terminos de comisiones etc."
   ]
  },
  {
   "cell_type": "code",
   "execution_count": null,
   "metadata": {},
   "outputs": [
    {
     "ename": "AttributeError",
     "evalue": "'NoneType' object has no attribute 'drop'",
     "output_type": "error",
     "traceback": [
      "\u001b[1;31m---------------------------------------------------------------------------\u001b[0m",
      "\u001b[1;31mAttributeError\u001b[0m                            Traceback (most recent call last)",
      "\u001b[1;32mc:\\Users\\NoobG\\OneDrive\\Escritorio\\IAO Practica Final\\preprocesado.ipynb Cell 22\u001b[0m line \u001b[0;36m1\n\u001b[1;32m----> <a href='vscode-notebook-cell:/c%3A/Users/NoobG/OneDrive/Escritorio/IAO%20Practica%20Final/preprocesado.ipynb#X53sZmlsZQ%3D%3D?line=0'>1</a>\u001b[0m combined_df\u001b[39m.\u001b[39;49mdrop(\u001b[39m'\u001b[39m\u001b[39m_id\u001b[39m\u001b[39m'\u001b[39m, axis\u001b[39m=\u001b[39m\u001b[39m1\u001b[39m, inplace\u001b[39m=\u001b[39m\u001b[39mTrue\u001b[39;00m)\n\u001b[0;32m      <a href='vscode-notebook-cell:/c%3A/Users/NoobG/OneDrive/Escritorio/IAO%20Practica%20Final/preprocesado.ipynb#X53sZmlsZQ%3D%3D?line=1'>2</a>\u001b[0m combined_df\u001b[39m.\u001b[39mdrop(\u001b[39m'\u001b[39m\u001b[39mDeposit\u001b[39m\u001b[39m'\u001b[39m, axis\u001b[39m=\u001b[39m\u001b[39m1\u001b[39m, inplace\u001b[39m=\u001b[39m\u001b[39mTrue\u001b[39;00m)\n\u001b[0;32m      <a href='vscode-notebook-cell:/c%3A/Users/NoobG/OneDrive/Escritorio/IAO%20Practica%20Final/preprocesado.ipynb#X53sZmlsZQ%3D%3D?line=2'>3</a>\u001b[0m combined_df\u001b[39m.\u001b[39mdrop(\u001b[39m'\u001b[39m\u001b[39mUseful square meters\u001b[39m\u001b[39m'\u001b[39m, axis\u001b[39m=\u001b[39m\u001b[39m1\u001b[39m, inplace\u001b[39m=\u001b[39m\u001b[39mTrue\u001b[39;00m)\n",
      "\u001b[1;31mAttributeError\u001b[0m: 'NoneType' object has no attribute 'drop'"
     ]
    }
   ],
   "source": [
    "combined_df.drop('_id', axis=1, inplace=True)\n",
    "combined_df.drop('Deposit', axis=1, inplace=True)\n",
    "combined_df.drop('Useful square meters', axis=1, inplace=True)\n",
    "combined_df.drop('Orientation', axis=1, inplace=True)\n",
    "combined_df.drop('Real state', axis=1, inplace=True)"
   ]
  },
  {
   "cell_type": "markdown",
   "metadata": {},
   "source": [
    "#### Export"
   ]
  },
  {
   "cell_type": "code",
   "execution_count": null,
   "metadata": {},
   "outputs": [],
   "source": [
    "combined_df.to_csv('viviendas.csv', index=False)"
   ]
  }
 ],
 "metadata": {
  "kernelspec": {
   "display_name": "Python 3",
   "language": "python",
   "name": "python3"
  },
  "language_info": {
   "codemirror_mode": {
    "name": "ipython",
    "version": 3
   },
   "file_extension": ".py",
   "mimetype": "text/x-python",
   "name": "python",
   "nbconvert_exporter": "python",
   "pygments_lexer": "ipython3",
   "version": "3.11.7"
  }
 },
 "nbformat": 4,
 "nbformat_minor": 2
}
