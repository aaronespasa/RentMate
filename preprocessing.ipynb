{
 "cells": [
  {
   "cell_type": "markdown",
   "metadata": {},
   "source": [
    "## Preprocessing: Data Cleaning & EDA"
   ]
  },
  {
   "cell_type": "code",
   "execution_count": 82,
   "metadata": {},
   "outputs": [],
   "source": [
    "import pandas as pd\n",
    "import numpy as np\n",
    "import matplotlib.pyplot as plt\n",
    "import seaborn as sns\n",
    "import string\n",
    "import re\n",
    "import nltk\n",
    "\n",
    "from tqdm import trange\n",
    "from nltk import tokenize\n",
    "from nltk.corpus import stopwords\n",
    "from nltk.stem import WordNetLemmatizer\n",
    "from nltk.probability import FreqDist\n",
    "from collections import Counter\n",
    "from sklearn.feature_extraction.text import CountVectorizer\n",
    "from sklearn.preprocessing import OneHotEncoder"
   ]
  },
  {
   "cell_type": "code",
   "execution_count": 83,
   "metadata": {},
   "outputs": [],
   "source": [
    "df = pd.read_csv('data/renting.csv')"
   ]
  },
  {
   "cell_type": "markdown",
   "metadata": {},
   "source": [
    "### 1. Cleaning the data"
   ]
  },
  {
   "cell_type": "markdown",
   "metadata": {},
   "source": [
    "Removing duplicated rows:"
   ]
  },
  {
   "cell_type": "code",
   "execution_count": 84,
   "metadata": {},
   "outputs": [
    {
     "name": "stdout",
     "output_type": "stream",
     "text": [
      "Dropped 2303 duplicate rows\n"
     ]
    }
   ],
   "source": [
    "num_rows = df.shape[0]\n",
    "df.drop_duplicates(inplace=True)\n",
    "print(f'Dropped {num_rows - df.shape[0]} duplicate rows')"
   ]
  },
  {
   "cell_type": "markdown",
   "metadata": {},
   "source": [
    "Removing non-useful columns:"
   ]
  },
  {
   "cell_type": "code",
   "execution_count": 85,
   "metadata": {},
   "outputs": [],
   "source": [
    "df.drop('_id', axis=1, inplace=True)\n",
    "df.drop('Deposit', axis=1, inplace=True)\n",
    "df.drop('Useful square meters', axis=1, inplace=True)\n",
    "df.drop('Orientation', axis=1, inplace=True)\n",
    "df.drop('Real state', axis=1, inplace=True)"
   ]
  },
  {
   "cell_type": "code",
   "execution_count": 86,
   "metadata": {},
   "outputs": [
    {
     "name": "stdout",
     "output_type": "stream",
     "text": [
      "Number of rows of the column 'Plot square meters' with NaN values:  8086\n"
     ]
    }
   ],
   "source": [
    "print(\"Number of rows of the column 'Plot square meters' with NaN values: \", df['Plot square meters'].isna().sum())"
   ]
  },
  {
   "cell_type": "markdown",
   "metadata": {},
   "source": [
    "Plot square meters has a great number of NaN as it's only valuable for houses, not for apartments. Therefore, we'll fill with 0s the NaN values. This will also be useful to distinct between houses and apartments."
   ]
  },
  {
   "cell_type": "code",
   "execution_count": 87,
   "metadata": {},
   "outputs": [],
   "source": [
    "df['Plot square meters'].fillna(0, inplace=True)"
   ]
  },
  {
   "cell_type": "markdown",
   "metadata": {},
   "source": [
    "Check what are the columns with the most NaN values:"
   ]
  },
  {
   "cell_type": "code",
   "execution_count": 88,
   "metadata": {},
   "outputs": [
    {
     "data": {
      "text/plain": [
       "Title                     0\n",
       "Description              96\n",
       "Price                     0\n",
       "Type                      1\n",
       "Built square meters       0\n",
       "Plot square meters        0\n",
       "Rooms                     0\n",
       "Bathrooms                 0\n",
       "Storage room              0\n",
       "Wardrobe                  0\n",
       "Furnished                 0\n",
       "Equipped kitchen          0\n",
       "Renovation                0\n",
       "Reduced mobility          0\n",
       "Heating                   0\n",
       "Garage                    0\n",
       "Floor                   930\n",
       "Elevator                  0\n",
       "Air conditioning          0\n",
       "Swimming pool             0\n",
       "Garden                    0\n",
       "Green areas               0\n",
       "Terrace                   0\n",
       "Consumption            4201\n",
       "Emissions              4786\n",
       "Location                  0\n",
       "dtype: int64"
      ]
     },
     "execution_count": 88,
     "metadata": {},
     "output_type": "execute_result"
    }
   ],
   "source": [
    "df.isna().sum()"
   ]
  },
  {
   "cell_type": "markdown",
   "metadata": {},
   "source": [
    "Drop the row that has a NaN value in the column 'Type':"
   ]
  },
  {
   "cell_type": "code",
   "execution_count": 89,
   "metadata": {},
   "outputs": [],
   "source": [
    "df.dropna(subset=['Type'], inplace=True)"
   ]
  },
  {
   "cell_type": "markdown",
   "metadata": {},
   "source": [
    "Show a bar plot where each X axis value is a value from the 'Type' column and the Y axis is the number of samples that have NaN in the 'Floor' column:"
   ]
  },
  {
   "cell_type": "code",
   "execution_count": 90,
   "metadata": {},
   "outputs": [
    {
     "data": {
      "text/plain": [
       "<Axes: xlabel='Type'>"
      ]
     },
     "execution_count": 90,
     "metadata": {},
     "output_type": "execute_result"
    },
    {
     "data": {
      "image/png": "[encoded data removed]",
      "text/plain": [
       "<Figure size 640x480 with 1 Axes>"
      ]
     },
     "metadata": {},
     "output_type": "display_data"
    }
   ],
   "source": [
    "df['Floor'].isna().groupby(df['Type']).sum().plot(kind='bar')"
   ]
  },
  {
   "cell_type": "markdown",
   "metadata": {},
   "source": [
    "Therefore, we will remove the rows that have NaN in the 'Floor' column and the value 'piso' in the 'Type' column:"
   ]
  },
  {
   "cell_type": "code",
   "execution_count": 91,
   "metadata": {},
   "outputs": [],
   "source": [
    "df.drop(df[(df['Floor'].isna()) & (df['Type'] == 'piso')].index, inplace=True)"
   ]
  },
  {
   "cell_type": "markdown",
   "metadata": {},
   "source": [
    "Now, we're sure that there are no apartments with NaN values in the 'Floor' column. So, for the rest of the NaN values in the 'Floor' column, we will replace them with the value 'no aplica':"
   ]
  },
  {
   "cell_type": "code",
   "execution_count": 92,
   "metadata": {},
   "outputs": [],
   "source": [
    "df['Floor'].fillna('no aplica', inplace=True)"
   ]
  },
  {
   "cell_type": "markdown",
   "metadata": {},
   "source": [
    "Print the number of rows where the columns 'Consumption' and 'Emissions' have NaN values at the same time:"
   ]
  },
  {
   "cell_type": "code",
   "execution_count": 93,
   "metadata": {},
   "outputs": [
    {
     "name": "stdout",
     "output_type": "stream",
     "text": [
      "Number of rows with NaN values in the columns 'Consumption' and 'Emissions':  4152\n"
     ]
    }
   ],
   "source": [
    "# Print the number of rows where the columns 'Consumption' and 'Emissions' have NaN values at the same time\n",
    "print(\"Number of rows with NaN values in the columns 'Consumption' and 'Emissions': \", df[(df['Consumption'].isna()) & (df['Emissions'].isna())].shape[0])"
   ]
  },
  {
   "cell_type": "markdown",
   "metadata": {},
   "source": [
    "Therefore, we will remove the columns 'Consumption' and 'Emissions':"
   ]
  },
  {
   "cell_type": "code",
   "execution_count": 94,
   "metadata": {},
   "outputs": [],
   "source": [
    "df.drop('Consumption', axis=1, inplace=True)\n",
    "df.drop('Emissions', axis=1, inplace=True)"
   ]
  },
  {
   "cell_type": "markdown",
   "metadata": {},
   "source": [
    "Finally, we're going to join the columns 'Title' and 'Description' into one column called 'Description' to avoid data sparsity:"
   ]
  },
  {
   "cell_type": "code",
   "execution_count": 95,
   "metadata": {},
   "outputs": [],
   "source": [
    "df['Description'] = df.apply(lambda x: x['Title'] if pd.isna(x['Description']) else x['Title'] + '. ' + x['Description'], axis=1)\n",
    "df.drop('Title', axis=1, inplace=True)"
   ]
  },
  {
   "cell_type": "code",
   "execution_count": 96,
   "metadata": {},
   "outputs": [
    {
     "data": {
      "text/plain": [
       "Description            0\n",
       "Price                  0\n",
       "Type                   0\n",
       "Built square meters    0\n",
       "Plot square meters     0\n",
       "Rooms                  0\n",
       "Bathrooms              0\n",
       "Storage room           0\n",
       "Wardrobe               0\n",
       "Furnished              0\n",
       "Equipped kitchen       0\n",
       "Renovation             0\n",
       "Reduced mobility       0\n",
       "Heating                0\n",
       "Garage                 0\n",
       "Floor                  0\n",
       "Elevator               0\n",
       "Air conditioning       0\n",
       "Swimming pool          0\n",
       "Garden                 0\n",
       "Green areas            0\n",
       "Terrace                0\n",
       "Location               0\n",
       "dtype: int64"
      ]
     },
     "execution_count": 96,
     "metadata": {},
     "output_type": "execute_result"
    }
   ],
   "source": [
    "df.isna().sum()"
   ]
  },
  {
   "cell_type": "markdown",
   "metadata": {},
   "source": [
    "Now remove the samples that are in English:"
   ]
  },
  {
   "cell_type": "code",
   "execution_count": null,
   "metadata": {},
   "outputs": [],
   "source": []
  },
  {
   "cell_type": "markdown",
   "metadata": {},
   "source": [
    "And remove the values of 'Type' that are not necessary:"
   ]
  },
  {
   "cell_type": "code",
   "execution_count": null,
   "metadata": {},
   "outputs": [],
   "source": []
  },
  {
   "cell_type": "markdown",
   "metadata": {},
   "source": [
    "### 2. Exploratory Data Analysis"
   ]
  },
  {
   "cell_type": "code",
   "execution_count": null,
   "metadata": {},
   "outputs": [],
   "source": []
  },
  {
   "cell_type": "markdown",
   "metadata": {},
   "source": [
    "### 3. Exporting the data"
   ]
  },
  {
   "cell_type": "code",
   "execution_count": null,
   "metadata": {},
   "outputs": [],
   "source": [
    "df.to_csv('data/preprocessed_data.csv')"
   ]
  }
 ],
 "metadata": {
  "kernelspec": {
   "display_name": "venv",
   "language": "python",
   "name": "python3"
  },
  "language_info": {
   "codemirror_mode": {
    "name": "ipython",
    "version": 3
   },
   "file_extension": ".py",
   "mimetype": "text/x-python",
   "name": "python",
   "nbconvert_exporter": "python",
   "pygments_lexer": "ipython3",
   "version": "3.11.7"
  }
 },
 "nbformat": 4,
 "nbformat_minor": 2
}
